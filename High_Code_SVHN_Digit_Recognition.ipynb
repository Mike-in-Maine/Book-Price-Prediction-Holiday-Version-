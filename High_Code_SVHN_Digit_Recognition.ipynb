{
  "cells": [
    {
      "cell_type": "markdown",
      "metadata": {
        "id": "view-in-github",
        "colab_type": "text"
      },
      "source": [
        "<a href=\"https://colab.research.google.com/github/Mike-in-Maine/Book-Price-Prediction-Holiday-Version-/blob/main/High_Code_SVHN_Digit_Recognition.ipynb\" target=\"_parent\"><img src=\"https://colab.research.google.com/assets/colab-badge.svg\" alt=\"Open In Colab\"/></a>"
      ]
    },
    {
      "cell_type": "markdown",
      "metadata": {
        "id": "Q91KqmCRu64D"
      },
      "source": [
        "# **Deep Learning Project: Street View Housing Number Digit Recognition**\n",
        "\n",
        "# **Marks: 60**\n",
        "\n",
        "--------------\n",
        "## **Context**\n",
        "--------------\n",
        "\n",
        "One of the most interesting tasks in deep learning is to recognize objects in natural scenes. The ability to process visual information using machine learning algorithms can be very useful as demonstrated in various applications.\n",
        "\n",
        "The SVHN dataset contains over 600,000 labeled digits cropped from street-level photos. It is one of the most popular image recognition datasets. It has been used in neural networks created by Google to improve the map quality by automatically transcribing the address numbers from a patch of pixels. The transcribed number with a known street address helps pinpoint the location of the building it represents.\n",
        "\n",
        "----------------\n",
        "## **Objective**\n",
        "----------------\n",
        "\n",
        "Our objective is to predict the number depicted inside the image by using Artificial or Fully Connected Feed Forward Neural Networks and Convolutional Neural Networks. We will go through various models of each and finally select the one that is giving us the best performance.\n",
        "\n",
        "-------------\n",
        "## **Dataset**\n",
        "-------------\n",
        "Here, we will use a subset of the original data to save some computation time. The dataset is provided as a .h5 file. The basic preprocessing steps have been applied on the dataset."
      ]
    },
    {
      "cell_type": "markdown",
      "metadata": {
        "id": "8z2Z7-OAs8QG"
      },
      "source": [
        "## **Mount the drive**\n",
        "\n",
        "Let us start by mounting the Google drive. You can run the below cell to mount the Google drive."
      ]
    },
    {
      "cell_type": "code",
      "execution_count": 168,
      "metadata": {
        "id": "03lDyQUuef7z",
        "colab": {
          "base_uri": "https://localhost:8080/"
        },
        "outputId": "232ec4a5-94cf-4ef3-e4e9-1ae612950e02"
      },
      "outputs": [
        {
          "output_type": "stream",
          "name": "stdout",
          "text": [
            "Drive already mounted at /content/drive; to attempt to forcibly remount, call drive.mount(\"/content/drive\", force_remount=True).\n"
          ]
        }
      ],
      "source": [
        "# Mounting Google Colab drive\n",
        "\n",
        "from google.colab import drive\n",
        "drive.mount('/content/drive')\n"
      ]
    },
    {
      "cell_type": "markdown",
      "metadata": {
        "id": "C8U3DUa3eNsT"
      },
      "source": [
        "## **Importing the necessary libraries**"
      ]
    },
    {
      "cell_type": "code",
      "execution_count": 169,
      "metadata": {
        "id": "-dVzeuF3eQx1"
      },
      "outputs": [],
      "source": [
        "import random\n",
        "\n",
        "import numpy as np\n",
        "\n",
        "import pandas as pd\n",
        "\n",
        "import matplotlib.pyplot as plt\n",
        "\n",
        "import seaborn as sns\n",
        "\n",
        "from sklearn.model_selection import train_test_split\n",
        "\n",
        "from sklearn.preprocessing import MinMaxScaler\n",
        "\n",
        "from sklearn.metrics import classification_report\n",
        "\n",
        "from sklearn.metrics import confusion_matrix\n",
        "\n",
        "import tensorflow as tf\n",
        "\n",
        "from tensorflow.keras.models import Sequential\n",
        "\n",
        "from tensorflow.keras.layers import Dense, Dropout, Activation, BatchNormalization\n",
        "\n",
        "from tensorflow.keras.losses import categorical_crossentropy\n",
        "\n",
        "from tensorflow.keras.optimizers import Adam\n",
        "\n",
        "from tensorflow.keras.utils import to_categorical\n",
        "\n",
        "from tensorflow.keras import backend\n",
        "\n",
        "backend.clear_session()"
      ]
    },
    {
      "cell_type": "markdown",
      "metadata": {
        "id": "ucnevGLoyKf_"
      },
      "source": [
        "**Let us check the version of tensorflow.**"
      ]
    },
    {
      "cell_type": "code",
      "execution_count": 170,
      "metadata": {
        "id": "W5as47YxyJVk",
        "colab": {
          "base_uri": "https://localhost:8080/"
        },
        "outputId": "095bd655-d18c-41cf-fccf-aff0ffc8b3c0"
      },
      "outputs": [
        {
          "output_type": "stream",
          "name": "stdout",
          "text": [
            "2.12.0\n"
          ]
        }
      ],
      "source": [
        "print(tf.__version__)"
      ]
    },
    {
      "cell_type": "markdown",
      "metadata": {
        "id": "8lsux2ZwyTTR"
      },
      "source": [
        "## **Load the dataset**\n",
        "\n",
        "- Let us now load the dataset that is available as a .h5 file.\n",
        "- Split the data into the train and the test dataset."
      ]
    },
    {
      "cell_type": "code",
      "execution_count": 171,
      "metadata": {
        "id": "BApX9qgNsqV0",
        "scrolled": true,
        "colab": {
          "base_uri": "https://localhost:8080/"
        },
        "outputId": "94bcfe1e-6ea0-485f-c97b-fc5d785e1e7f"
      },
      "outputs": [
        {
          "output_type": "stream",
          "name": "stdout",
          "text": [
            "['X_test', 'X_train', 'X_val', 'y_test', 'y_train', 'y_val']\n"
          ]
        }
      ],
      "source": [
        "import h5py #This is the python library that opens the HDF5 files\n",
        "file_path = '/content/drive/MyDrive/MIT/elective_project/SVHN_single_grey1.h5'\n",
        "\n",
        "with h5py.File(file_path, 'r') as f:\n",
        "    print(list(f.keys()))  # This will print the keys at the root level (as a list), a little peak inside to see how the dataset is setup. The keys will be the equivalent of pandas columns\n",
        "\n",
        "    X_train = f['X_train'][:]\n",
        "    y_train = f['y_train'][:]\n",
        "    X_test = f['X_test'][:]\n",
        "    y_test = f['y_test'][:]\n"
      ]
    },
    {
      "cell_type": "markdown",
      "metadata": {
        "id": "hVe0CYpUgj7w"
      },
      "source": [
        "Check the number of images in the training and the testing dataset."
      ]
    },
    {
      "cell_type": "code",
      "execution_count": 172,
      "metadata": {
        "id": "y3lwKpOefkpA",
        "colab": {
          "base_uri": "https://localhost:8080/"
        },
        "outputId": "68f8a00e-0016-4caf-f2aa-3255a25a0b63"
      },
      "outputs": [
        {
          "output_type": "execute_result",
          "data": {
            "text/plain": [
              "(42000, 18000)"
            ]
          },
          "metadata": {},
          "execution_count": 172
        }
      ],
      "source": [
        "len(X_train), len(X_test)\n",
        "\n",
        "# This is not required for now, but we can look inside the X_train set and see what is inside the first set.\n",
        "#print(X_train[0])\n",
        "#print(len(X_train[0]))\n",
        "# We discovered that each image is a 32x32 pixel image in a form of a np matrix."
      ]
    },
    {
      "cell_type": "markdown",
      "metadata": {
        "id": "akTUOfLlgwoM"
      },
      "source": [
        "**Observation:**\n",
        "There are 42,000 images in the Training set and 18,000 images in the Testing set. Each image is a matrix of numbers, which in turn contains the vales of the individual pixels."
      ]
    },
    {
      "cell_type": "markdown",
      "metadata": {
        "id": "kxODV6HKykuc"
      },
      "source": [
        "## **Visualizing images**\n",
        "\n",
        "- Use X_train to visualize the first 10 images.\n",
        "- Use Y_train to print the first 10 labels."
      ]
    },
    {
      "cell_type": "code",
      "execution_count": 173,
      "metadata": {
        "id": "Bvsc8ytHsqWD",
        "colab": {
          "base_uri": "https://localhost:8080/",
          "height": 120
        },
        "outputId": "934d7a3e-9f24-4d5f-cd9f-f98e8cd91cdc"
      },
      "outputs": [
        {
          "output_type": "display_data",
          "data": {
            "text/plain": [
              "<Figure size 1000x100 with 10 Axes>"
            ],
            "image/png": "[encoded data removed]"
          },
          "metadata": {}
        }
      ],
      "source": [
        "#Since the images are in the form of a matrix, we can use the handy function from Matplotlib called \"figure\".\n",
        "#It creates a blank canvas in which the individual pixes are plotted.\n",
        "plt.figure(figsize = (10, 1))\n",
        "\n",
        "#We iterate through the first 10 images (matrices).\n",
        "for i in range(10):\n",
        "\n",
        "    # iterates through the subplot, 1 number of rows, 10 numer of columns and iterator for individual images.\n",
        "    plt.subplot(1, 10, i+1)\n",
        "\n",
        "    # We insert each image into the canvas we created and show it with a contrast color map called \"jet'.\n",
        "    # Note: these are not real colors in the image, but only to signify the difference between the numbers of the matrix.\n",
        "    plt.imshow(X_train[i], cmap='gray')\n",
        "\n",
        "    # Lets turn the labels and the axis off since they will be inthe way of seeing the image as it is.\n",
        "    plt.axis('off')\n",
        "\n",
        "    # We can show the labels from Y_train set for each number\n",
        "    plt.text(15, 40, f'Number {y_train[i]}', ha='center', va='bottom', color='black', fontsize=8)\n",
        "# Plots the result of the for loop.\n",
        "plt.show()\n"
      ]
    },
    {
      "cell_type": "markdown",
      "metadata": {
        "id": "kzoyeXHOy80N"
      },
      "source": [
        "## **Data preparation**\n",
        "\n",
        "- Print the shape and the array of pixels for the first image in the training dataset.\n",
        "- Normalize the train and the test dataset by dividing by 255.\n",
        "- Print the new shapes of the train and the test dataset.\n",
        "- One-hot encode the target variable."
      ]
    },
    {
      "cell_type": "markdown",
      "metadata": {
        "id": "YSlYN6pb8kMY"
      },
      "source": [
        "Print the shapes of Training and Test data"
      ]
    },
    {
      "cell_type": "code",
      "execution_count": 174,
      "metadata": {
        "id": "NqndzQXng9rL",
        "colab": {
          "base_uri": "https://localhost:8080/"
        },
        "outputId": "24a40943-8085-4fd0-9a94-5b0428360a80"
      },
      "outputs": [
        {
          "output_type": "stream",
          "name": "stdout",
          "text": [
            "Shape: (32, 32)\n"
          ]
        }
      ],
      "source": [
        "# Prints the shape of the first dataset with is 32 pixels by 32 pixels, hence a matrix of 1024 total pixels.\n",
        "# If the image was in color RGB, each \"channel\" will have its own matrix of 32x32 pixels, making the calculations a lot more cumbersome.\n",
        "# Lets stick with black and white pitures (grayscale with 255 graduation of gray with 0 being black and 255 white)\n",
        "print(\"Shape:\", X_train[0].shape)"
      ]
    },
    {
      "cell_type": "code",
      "source": [
        "# Lets take a look at the first image in terms of numerical matrix.\n",
        "print(\"First image:\\n\", X_train[0])"
      ],
      "metadata": {
        "colab": {
          "base_uri": "https://localhost:8080/"
        },
        "id": "F9-QHNYpFfU0",
        "outputId": "da97409c-22b4-4831-bb18-443d0acc0b9f"
      },
      "execution_count": 175,
      "outputs": [
        {
          "output_type": "stream",
          "name": "stdout",
          "text": [
            "First image:\n",
            " [[ 33.0704  30.2601  26.852  ...  71.4471  58.2204  42.9939]\n",
            " [ 25.2283  25.5533  29.9765 ... 113.0209 103.3639  84.2949]\n",
            " [ 26.2775  22.6137  40.4763 ... 113.3028 121.775  115.4228]\n",
            " ...\n",
            " [ 28.5502  36.212   45.0801 ...  24.1359  25.0927  26.0603]\n",
            " [ 38.4352  26.4733  23.2717 ...  28.1094  29.4683  30.0661]\n",
            " [ 50.2984  26.0773  24.0389 ...  49.6682  50.853   53.0377]]\n"
          ]
        }
      ]
    },
    {
      "cell_type": "code",
      "execution_count": 176,
      "metadata": {
        "id": "q_yUUTp_mUzB"
      },
      "outputs": [],
      "source": [
        "# Flattens the dataset by using reshaping fom numpy into 1D array without changing the data. Just the shape.\n",
        "X_train = X_train.reshape(X_train.shape[0], 1024)\n",
        "\n",
        "X_test = X_test.reshape(X_test.shape[0], 1024)"
      ]
    },
    {
      "cell_type": "code",
      "execution_count": 177,
      "metadata": {
        "id": "t7FSqOpamWkH",
        "colab": {
          "base_uri": "https://localhost:8080/"
        },
        "outputId": "d9f417c2-66cb-4ffc-d678-2eae866cd9d3"
      },
      "outputs": [
        {
          "output_type": "stream",
          "name": "stdout",
          "text": [
            "Train data shape set: (42000, 1024) (42000,)\n",
            "Test data shape: (18000, 1024) (18000,)\n"
          ]
        }
      ],
      "source": [
        "# Prints the shape of the Training and Test data sets.\n",
        "print(\"Train data shape set:\", X_train.shape, y_train.shape)\n",
        "print(\"Test data shape:\", X_test.shape, y_test.shape)"
      ]
    },
    {
      "cell_type": "markdown",
      "metadata": {
        "id": "f4CQkKtQ0XII"
      },
      "source": [
        "### **Normalize the train and the test data**"
      ]
    },
    {
      "cell_type": "code",
      "source": [
        "# Normalizing data means fitting all data in a 0-1 interval.\n",
        "# Normalized Value= Max Value/Original Value\n",
        "\n",
        "# Normalize reshaped training data\n",
        "X_train_normalized = X_train / 255.0\n",
        "\n",
        "# Normalize reshaped testing data\n",
        "X_test_normalized = X_test / 255.0"
      ],
      "metadata": {
        "id": "34njaBd3tqLH"
      },
      "execution_count": 178,
      "outputs": []
    },
    {
      "cell_type": "markdown",
      "metadata": {
        "id": "0uLxXBpz81vk"
      },
      "source": [
        "### **One-hot encode output**"
      ]
    },
    {
      "cell_type": "code",
      "execution_count": 179,
      "metadata": {
        "id": "zL0lYER4sqWw"
      },
      "outputs": [],
      "source": [
        "# This part turns the categorical values into a matrix so that it can be used in a context of comparing and pairing it to the other matrices contained in X_train which are all pictures.\n",
        "\n",
        "y_train = to_categorical(y_train)\n",
        "\n",
        "y_test = to_categorical(y_test)"
      ]
    },
    {
      "cell_type": "code",
      "source": [
        "# Prints the list of all the labels\n",
        "\n",
        "print(y_test)"
      ],
      "metadata": {
        "colab": {
          "base_uri": "https://localhost:8080/"
        },
        "id": "p_QvQszvAIWv",
        "outputId": "0025686c-b731-4634-fd42-bd20300ef349"
      },
      "execution_count": 180,
      "outputs": [
        {
          "output_type": "stream",
          "name": "stdout",
          "text": [
            "[[0. 1. 0. ... 0. 0. 0.]\n",
            " [0. 0. 0. ... 1. 0. 0.]\n",
            " [0. 0. 1. ... 0. 0. 0.]\n",
            " ...\n",
            " [0. 0. 0. ... 1. 0. 0.]\n",
            " [0. 0. 0. ... 0. 0. 1.]\n",
            " [0. 0. 1. ... 0. 0. 0.]]\n"
          ]
        }
      ]
    },
    {
      "cell_type": "markdown",
      "metadata": {
        "id": "ViqPOTquCF76"
      },
      "source": [
        "**Observation:**\n",
        "To be noted that if we want to see the first element of the list, it will show an interesting set:\n",
        "\n",
        "print(y_test[0])\n",
        "\n",
        "[0,1,0,0,0,0,0,0,0,0] <--- this means, that the label has been \"hot-encoded\" for the number 2 (second element has a 1), which is also the number corresponding in our X_train.\n",
        "So the labels are corresponding the correct images."
      ]
    },
    {
      "cell_type": "markdown",
      "metadata": {
        "id": "yH-gVrzuByNA"
      },
      "source": [
        "## **Model Building**\n",
        "\n",
        "Now that we have done the data preprocessing, let's build an ANN model.\n",
        "\n",
        "### Fix the seed for random number generators"
      ]
    },
    {
      "cell_type": "code",
      "execution_count": 181,
      "metadata": {
        "id": "BcKRwrGn0XIL"
      },
      "outputs": [],
      "source": [
        "# Lets set up a seed of 42 for now and see if it works well. We need to se it up the same in all random generators in order to maintain reproducibility.\n",
        "\n",
        "# In NumPy\n",
        "np.random.seed(42)\n",
        "\n",
        "# In the generic python funcion\n",
        "random.seed(42)\n",
        "\n",
        "# And TensorFlow\n",
        "tf.random.set_seed(42)\n",
        "\n",
        "# I also set up a function for seed selection here so I can reuse it later.\n",
        "\n",
        "def seed_setup():\n",
        "  np.random.seed(42)\n",
        "  random.seed(42)\n",
        "  tf.random.set_seed(42)\n"
      ]
    },
    {
      "cell_type": "markdown",
      "metadata": {
        "id": "UJDUoaEj1d6e"
      },
      "source": [
        "### **Model Architecture**\n",
        "- Write a function that returns a sequential model with the following architecture:\n",
        " - First hidden layer with **64 nodes and the relu activation** and the **input shape = (1024, )**\n",
        " - Second hidden layer with **32 nodes and the relu activation**\n",
        " - Output layer with **activation as 'softmax' and number of nodes equal to the number of classes, i.e., 10**\n",
        " - Compile the model with the **loss equal to categorical_crossentropy, optimizer equal to Adam(learning_rate = 0.001), and metric equal to 'accuracy'**. Do not fit the model here, just return the compiled model.\n",
        "- Call the nn_model_1 function and store the model in a new variable.\n",
        "- Print the summary of the model.\n",
        "- Fit on the train data with a **validation split of 0.2, batch size = 128, verbose = 1, and epochs = 20**. Store the model building history to use later for visualization."
      ]
    },
    {
      "cell_type": "markdown",
      "metadata": {
        "id": "A48z6ucF0XIP"
      },
      "source": [
        "### **Build and train an ANN model as per the above mentioned architecture.**"
      ]
    },
    {
      "cell_type": "code",
      "execution_count": 182,
      "metadata": {
        "id": "Cmi81Gr5sqW-",
        "colab": {
          "base_uri": "https://localhost:8080/"
        },
        "outputId": "49900926-f2cd-4db8-efdf-33bf10ee5705"
      },
      "outputs": [
        {
          "output_type": "stream",
          "name": "stdout",
          "text": [
            "Model: \"sequential\"\n",
            "_________________________________________________________________\n",
            " Layer (type)                Output Shape              Param #   \n",
            "=================================================================\n",
            " dense (Dense)               (None, 64)                65600     \n",
            "                                                                 \n",
            " dense_1 (Dense)             (None, 32)                2080      \n",
            "                                                                 \n",
            " dense_2 (Dense)             (None, 10)                330       \n",
            "                                                                 \n",
            "=================================================================\n",
            "Total params: 68,010\n",
            "Trainable params: 68,010\n",
            "Non-trainable params: 0\n",
            "_________________________________________________________________\n",
            "Epoch 1/20\n",
            "263/263 [==============================] - 3s 7ms/step - loss: 2.2934 - accuracy: 0.1233 - val_loss: 2.2324 - val_accuracy: 0.1744\n",
            "Epoch 2/20\n",
            "263/263 [==============================] - 1s 5ms/step - loss: 2.0774 - accuracy: 0.2509 - val_loss: 1.9318 - val_accuracy: 0.3089\n",
            "Epoch 3/20\n",
            "263/263 [==============================] - 2s 6ms/step - loss: 1.8679 - accuracy: 0.3405 - val_loss: 1.7779 - val_accuracy: 0.3869\n",
            "Epoch 4/20\n",
            "263/263 [==============================] - 2s 6ms/step - loss: 1.6573 - accuracy: 0.4391 - val_loss: 1.5288 - val_accuracy: 0.4907\n",
            "Epoch 5/20\n",
            "263/263 [==============================] - 2s 6ms/step - loss: 1.4635 - accuracy: 0.5180 - val_loss: 1.4202 - val_accuracy: 0.5255\n",
            "Epoch 6/20\n",
            "263/263 [==============================] - 2s 6ms/step - loss: 1.3588 - accuracy: 0.5568 - val_loss: 1.3240 - val_accuracy: 0.5768\n",
            "Epoch 7/20\n",
            "263/263 [==============================] - 2s 9ms/step - loss: 1.2895 - accuracy: 0.5839 - val_loss: 1.2558 - val_accuracy: 0.6013\n",
            "Epoch 8/20\n",
            "263/263 [==============================] - 2s 9ms/step - loss: 1.2375 - accuracy: 0.6044 - val_loss: 1.2217 - val_accuracy: 0.6221\n",
            "Epoch 9/20\n",
            "263/263 [==============================] - 2s 8ms/step - loss: 1.1990 - accuracy: 0.6206 - val_loss: 1.1674 - val_accuracy: 0.6330\n",
            "Epoch 10/20\n",
            "263/263 [==============================] - 2s 9ms/step - loss: 1.1666 - accuracy: 0.6334 - val_loss: 1.1484 - val_accuracy: 0.6420\n",
            "Epoch 11/20\n",
            "263/263 [==============================] - 2s 9ms/step - loss: 1.1465 - accuracy: 0.6399 - val_loss: 1.1256 - val_accuracy: 0.6462\n",
            "Epoch 12/20\n",
            "263/263 [==============================] - 2s 8ms/step - loss: 1.1239 - accuracy: 0.6485 - val_loss: 1.1110 - val_accuracy: 0.6533\n",
            "Epoch 13/20\n",
            "263/263 [==============================] - 2s 6ms/step - loss: 1.1017 - accuracy: 0.6589 - val_loss: 1.0951 - val_accuracy: 0.6612\n",
            "Epoch 14/20\n",
            "263/263 [==============================] - 2s 6ms/step - loss: 1.0981 - accuracy: 0.6596 - val_loss: 1.0940 - val_accuracy: 0.6620\n",
            "Epoch 15/20\n",
            "263/263 [==============================] - 2s 6ms/step - loss: 1.0854 - accuracy: 0.6636 - val_loss: 1.0948 - val_accuracy: 0.6650\n",
            "Epoch 16/20\n",
            "263/263 [==============================] - 2s 6ms/step - loss: 1.0715 - accuracy: 0.6682 - val_loss: 1.1295 - val_accuracy: 0.6475\n",
            "Epoch 17/20\n",
            "263/263 [==============================] - 2s 6ms/step - loss: 1.0626 - accuracy: 0.6713 - val_loss: 1.0618 - val_accuracy: 0.6744\n",
            "Epoch 18/20\n",
            "263/263 [==============================] - 2s 7ms/step - loss: 1.0535 - accuracy: 0.6746 - val_loss: 1.0626 - val_accuracy: 0.6702\n",
            "Epoch 19/20\n",
            "263/263 [==============================] - 2s 9ms/step - loss: 1.0486 - accuracy: 0.6745 - val_loss: 1.0610 - val_accuracy: 0.6736\n",
            "Epoch 20/20\n",
            "263/263 [==============================] - 2s 9ms/step - loss: 1.0420 - accuracy: 0.6770 - val_loss: 1.0535 - val_accuracy: 0.6745\n"
          ]
        }
      ],
      "source": [
        "input_shape = 1024 # the 32x32 images\n",
        "num_classes = 10 # how many different categories of images we have (1,2,3,4,5,6,7,8,9,0)\n",
        "\n",
        "def nn_model_1(input_shape, num_classes):\n",
        "    # Create a Sequential Model. It is a simple model in which there is one tensor as input and one as output\n",
        "    model = Sequential()\n",
        "\n",
        "    # First hidden layer with 64 nodes and ReLU activation\n",
        "    model.add(Dense(64, activation='relu', input_shape=(input_shape,)))\n",
        "\n",
        "    # Second hidden layer with 32 nodes and ReLU activation\n",
        "    model.add(Dense(32, activation='relu'))\n",
        "\n",
        "    # Output layer with 'softmax' activation and number of nodes equal to the number of classes\n",
        "    model.add(Dense(num_classes, activation='softmax'))\n",
        "\n",
        "    # Compile the model using categorical crossentropy whch is a commonly used loss function for multi-class classification problems\n",
        "    # where each sample belongs to exactly one class out of two or more classes, like in our case.\n",
        "    model.compile(loss='categorical_crossentropy',\n",
        "                  optimizer=Adam(learning_rate=0.001),\n",
        "                  metrics=['accuracy'])\n",
        "\n",
        "    return model\n",
        "\n",
        "    # Create the model\n",
        "model = nn_model_1(input_shape, num_classes)\n",
        "\n",
        "# Print the summary of the model\n",
        "model.summary()\n",
        "\n",
        "# Fit the model on the train data with a validation split of 0.2\n",
        "history = model.fit(X_train_normalized, y_train,\n",
        "                    validation_split=0.2,\n",
        "                    batch_size=128,\n",
        "                    verbose=1,\n",
        "                    epochs=20)"
      ]
    },
    {
      "cell_type": "markdown",
      "metadata": {
        "id": "MeF8XSWz0XIU"
      },
      "source": [
        "### **Plot the Training and Validation Accuracies and write down your Observations.**"
      ]
    },
    {
      "cell_type": "code",
      "execution_count": 183,
      "metadata": {
        "id": "lt77zgGMP4yw",
        "colab": {
          "base_uri": "https://localhost:8080/",
          "height": 697
        },
        "outputId": "3490c2ed-2d38-4639-8a50-72ca72d91458"
      },
      "outputs": [
        {
          "output_type": "display_data",
          "data": {
            "text/plain": [
              "<Figure size 800x800 with 1 Axes>"
            ],
            "image/png": "[encoded data removed]"
          },
          "metadata": {}
        }
      ],
      "source": [
        "# Plotting the accuracies together.\n",
        "\n",
        "# Extracts the training history from a Keras model and stores it in a dictionary. This is useful since dictionaries in python are pairs\n",
        "# of key-values, just like the project we are working on.\n",
        "dict_hist = history.history\n",
        "\n",
        "# Creates a list of all Epochs\n",
        "list_ep = [i for i in range(1, 21)]\n",
        "\n",
        "# Creates a space to plot the graph in MatPlotLib\n",
        "plt.figure(figsize = (8, 8))\n",
        "\n",
        "# Plots the first line Accuracy\n",
        "plt.plot(list_ep, dict_hist['accuracy'], ls = '--', label = 'Accuracy')\n",
        "\n",
        "# Plots the second line Validation Accuracy\n",
        "plt.plot(list_ep, dict_hist['val_accuracy'], ls = '--', label = 'Validation Accuracy')\n",
        "\n",
        "# Sets the label for axis Y\n",
        "plt.ylabel('Accuracy')\n",
        "\n",
        "# Sets the label for axis X\n",
        "plt.xlabel('Epochs')\n",
        "\n",
        "# Sets the legend for the graph\n",
        "plt.legend()\n",
        "\n",
        "# Plotsthe actual graph on the screen.\n",
        "plt.show()"
      ]
    },
    {
      "cell_type": "markdown",
      "metadata": {
        "id": "pGBbQpLONX7k"
      },
      "source": [
        "**Observations:**\n",
        "\n",
        "Generally speaking the accuracy increases with both training data and validation data which is a positive sign of good preformance of the model.\n",
        "\n",
        "**Overfitting or Underfitting:** the 2 accuracies are pretty similar so there is a high chance that this model does not over fit nor underfit.\n",
        "\n",
        "**Convergence and Stability:**\n",
        "The lines are converging towards the end and through the entire process which is a good indication of leraning rate. There is a drop in Epoch 16 which then is corrected towards the end. It is possible that since the validation accuracy drops suddenly at Epoch 16, the model could be stopped at Epoch 15, however after Epoch 16 the moder performs well again. Perhaps this was due to some noise.\n",
        "\n",
        "**Epoch Selection:**\n",
        "This seems fine since the model is not overfitting or underfitting.\n",
        "\n"
      ]
    },
    {
      "cell_type": "markdown",
      "metadata": {
        "id": "z0qgLMBZm5-K"
      },
      "source": [
        "Let's build one more model with higher complexity and see if we can improve the performance of the model.\n",
        "\n",
        "First, we need to clear the previous model's history from the Keras backend. Also, let's fix the seed again after clearing the backend."
      ]
    },
    {
      "cell_type": "code",
      "execution_count": 184,
      "metadata": {
        "id": "I_ih3wEU9wIk"
      },
      "outputs": [],
      "source": [
        "# Clearing the backend in Keras\n",
        "backend.clear_session()\n",
        "\n",
        "#Calling our handy function to reset the seed\n",
        "seed_setup()\n"
      ]
    },
    {
      "cell_type": "markdown",
      "metadata": {
        "id": "lT6o3TIKuCtk"
      },
      "source": [
        "### **Second Model Architecture**\n",
        "- Write a function that returns a sequential model with the following architecture:\n",
        " - First hidden layer with **256 nodes and the relu activation** and the **input shape = (1024, )**\n",
        " - Second hidden layer with **128 nodes and the relu activation**\n",
        " - Add the **Dropout layer with the rate equal to 0.2**\n",
        " - Third hidden layer with **64 nodes and the relu activation**\n",
        " - Fourth hidden layer with **64 nodes and the relu activation**\n",
        " - Fifth hidden layer with **32 nodes and the relu activation**\n",
        " - Add the **BatchNormalization layer**\n",
        " - Output layer with **activation as 'softmax' and number of nodes equal to the number of classes, i.e., 10**\n",
        " -Compile the model with the **loss equal to categorical_crossentropy, optimizer equal to Adam(learning_rate = 0.0005), and metric equal to 'accuracy'**. Do not fit the model here, just return the compiled model.\n",
        "- Call the nn_model_2 function and store the model in a new variable.\n",
        "- Print the summary of the model.\n",
        "- Fit on the train data with a **validation split of 0.2, batch size = 128, verbose = 1, and epochs = 30**. Store the model building history to use later for visualization."
      ]
    },
    {
      "cell_type": "markdown",
      "metadata": {
        "id": "f-ZjNBmH0XIV"
      },
      "source": [
        "### **Build and train the new ANN model as per the above mentioned architecture**"
      ]
    },
    {
      "cell_type": "code",
      "execution_count": 185,
      "metadata": {
        "id": "EEPYLFIPnSDP",
        "colab": {
          "base_uri": "https://localhost:8080/"
        },
        "outputId": "1dc75621-5a90-4760-d581-994e46499246"
      },
      "outputs": [
        {
          "output_type": "stream",
          "name": "stdout",
          "text": [
            "Model: \"sequential\"\n",
            "_________________________________________________________________\n",
            " Layer (type)                Output Shape              Param #   \n",
            "=================================================================\n",
            " dense (Dense)               (None, 256)               262400    \n",
            "                                                                 \n",
            " dense_1 (Dense)             (None, 128)               32896     \n",
            "                                                                 \n",
            " dropout (Dropout)           (None, 128)               0         \n",
            "                                                                 \n",
            " dense_2 (Dense)             (None, 64)                8256      \n",
            "                                                                 \n",
            " dense_3 (Dense)             (None, 64)                4160      \n",
            "                                                                 \n",
            " dense_4 (Dense)             (None, 32)                2080      \n",
            "                                                                 \n",
            " batch_normalization (BatchN  (None, 32)               128       \n",
            " ormalization)                                                   \n",
            "                                                                 \n",
            " dense_5 (Dense)             (None, 10)                330       \n",
            "                                                                 \n",
            "=================================================================\n",
            "Total params: 310,250\n",
            "Trainable params: 310,186\n",
            "Non-trainable params: 64\n",
            "_________________________________________________________________\n",
            "Epoch 1/30\n",
            "263/263 [==============================] - 8s 22ms/step - loss: 2.3301 - accuracy: 0.1020 - val_loss: 2.3126 - val_accuracy: 0.0969\n",
            "Epoch 2/30\n",
            "263/263 [==============================] - 4s 14ms/step - loss: 2.3040 - accuracy: 0.1043 - val_loss: 2.3018 - val_accuracy: 0.1049\n",
            "Epoch 3/30\n",
            "263/263 [==============================] - 3s 13ms/step - loss: 2.1035 - accuracy: 0.2029 - val_loss: 1.9555 - val_accuracy: 0.2789\n",
            "Epoch 4/30\n",
            "263/263 [==============================] - 3s 12ms/step - loss: 1.6221 - accuracy: 0.4240 - val_loss: 1.5954 - val_accuracy: 0.4607\n",
            "Epoch 5/30\n",
            "263/263 [==============================] - 5s 18ms/step - loss: 1.3656 - accuracy: 0.5424 - val_loss: 1.2720 - val_accuracy: 0.5899\n",
            "Epoch 6/30\n",
            "263/263 [==============================] - 5s 20ms/step - loss: 1.1958 - accuracy: 0.6150 - val_loss: 1.1094 - val_accuracy: 0.6462\n",
            "Epoch 7/30\n",
            "263/263 [==============================] - 4s 17ms/step - loss: 1.1250 - accuracy: 0.6400 - val_loss: 1.0664 - val_accuracy: 0.6543\n",
            "Epoch 8/30\n",
            "263/263 [==============================] - 3s 13ms/step - loss: 1.0609 - accuracy: 0.6599 - val_loss: 1.0290 - val_accuracy: 0.6744\n",
            "Epoch 9/30\n",
            "263/263 [==============================] - 3s 12ms/step - loss: 1.0168 - accuracy: 0.6772 - val_loss: 0.9769 - val_accuracy: 0.6899\n",
            "Epoch 10/30\n",
            "263/263 [==============================] - 4s 15ms/step - loss: 0.9841 - accuracy: 0.6875 - val_loss: 0.9503 - val_accuracy: 0.7006\n",
            "Epoch 11/30\n",
            "263/263 [==============================] - 5s 19ms/step - loss: 0.9636 - accuracy: 0.6936 - val_loss: 0.9347 - val_accuracy: 0.7062\n",
            "Epoch 12/30\n",
            "263/263 [==============================] - 5s 20ms/step - loss: 0.9301 - accuracy: 0.7054 - val_loss: 0.9375 - val_accuracy: 0.7033\n",
            "Epoch 13/30\n",
            "263/263 [==============================] - 4s 13ms/step - loss: 0.9034 - accuracy: 0.7145 - val_loss: 0.9450 - val_accuracy: 0.6981\n",
            "Epoch 14/30\n",
            "263/263 [==============================] - 3s 12ms/step - loss: 0.8967 - accuracy: 0.7169 - val_loss: 0.8675 - val_accuracy: 0.7287\n",
            "Epoch 15/30\n",
            "263/263 [==============================] - 3s 12ms/step - loss: 0.8766 - accuracy: 0.7224 - val_loss: 0.8910 - val_accuracy: 0.7164\n",
            "Epoch 16/30\n",
            "263/263 [==============================] - 5s 18ms/step - loss: 0.8658 - accuracy: 0.7253 - val_loss: 0.8921 - val_accuracy: 0.7094\n",
            "Epoch 17/30\n",
            "263/263 [==============================] - 5s 19ms/step - loss: 0.8518 - accuracy: 0.7298 - val_loss: 0.8501 - val_accuracy: 0.7351\n",
            "Epoch 18/30\n",
            "263/263 [==============================] - 5s 18ms/step - loss: 0.8406 - accuracy: 0.7337 - val_loss: 0.8205 - val_accuracy: 0.7425\n",
            "Epoch 19/30\n",
            "263/263 [==============================] - 3s 12ms/step - loss: 0.8258 - accuracy: 0.7385 - val_loss: 0.8407 - val_accuracy: 0.7329\n",
            "Epoch 20/30\n",
            "263/263 [==============================] - 3s 12ms/step - loss: 0.8200 - accuracy: 0.7383 - val_loss: 0.8093 - val_accuracy: 0.7513\n",
            "Epoch 21/30\n",
            "263/263 [==============================] - 4s 13ms/step - loss: 0.8161 - accuracy: 0.7402 - val_loss: 0.8469 - val_accuracy: 0.7436\n",
            "Epoch 22/30\n",
            "263/263 [==============================] - 5s 19ms/step - loss: 0.8058 - accuracy: 0.7432 - val_loss: 0.8235 - val_accuracy: 0.7415\n",
            "Epoch 23/30\n",
            "263/263 [==============================] - 5s 19ms/step - loss: 0.8007 - accuracy: 0.7436 - val_loss: 0.8027 - val_accuracy: 0.7533\n",
            "Epoch 24/30\n",
            "263/263 [==============================] - 4s 15ms/step - loss: 0.7920 - accuracy: 0.7472 - val_loss: 0.7534 - val_accuracy: 0.7664\n",
            "Epoch 25/30\n",
            "263/263 [==============================] - 3s 12ms/step - loss: 0.7714 - accuracy: 0.7532 - val_loss: 0.7814 - val_accuracy: 0.7542\n",
            "Epoch 26/30\n",
            "263/263 [==============================] - 3s 12ms/step - loss: 0.7757 - accuracy: 0.7538 - val_loss: 0.7556 - val_accuracy: 0.7594\n",
            "Epoch 27/30\n",
            "263/263 [==============================] - 4s 17ms/step - loss: 0.7541 - accuracy: 0.7613 - val_loss: 0.8314 - val_accuracy: 0.7412\n",
            "Epoch 28/30\n",
            "263/263 [==============================] - 5s 20ms/step - loss: 0.7613 - accuracy: 0.7589 - val_loss: 0.7555 - val_accuracy: 0.7686\n",
            "Epoch 29/30\n",
            "263/263 [==============================] - 5s 18ms/step - loss: 0.7594 - accuracy: 0.7593 - val_loss: 0.7642 - val_accuracy: 0.7637\n",
            "Epoch 30/30\n",
            "263/263 [==============================] - 3s 12ms/step - loss: 0.7430 - accuracy: 0.7625 - val_loss: 0.7616 - val_accuracy: 0.7629\n"
          ]
        }
      ],
      "source": [
        "input_shape = 1024 # the 32x32 images\n",
        "num_classes = 10 # how many different categories of images we have (1,2,3,4,5,6,7,8,9,0)\n",
        "\n",
        "def nn_model_2(input_shape, num_classes):\n",
        "    model = Sequential()\n",
        "\n",
        "    # First hidden layer with 256 nodes and ReLU activation\n",
        "    model.add(Dense(256, activation='relu', input_shape=(input_shape,)))\n",
        "\n",
        "    # Second hidden layer with 128 nodes and ReLU activation\n",
        "    model.add(Dense(128, activation='relu'))\n",
        "\n",
        "    # Add Dropout layer with a rate of 0.2\n",
        "    model.add(Dropout(0.2))\n",
        "\n",
        "    # Third hidden layer with 64 nodes and ReLU activation\n",
        "    model.add(Dense(64, activation='relu'))\n",
        "\n",
        "    # Fourth hidden layer with 64 nodes and ReLU activation\n",
        "    model.add(Dense(64, activation='relu'))\n",
        "\n",
        "    # Fifth hidden layer with 32 nodes and ReLU activation\n",
        "    model.add(Dense(32, activation='relu'))\n",
        "\n",
        "    # Add BatchNormalization layer\n",
        "    model.add(BatchNormalization())\n",
        "\n",
        "    # Output layer with 'softmax' activation and number of nodes equal to the number of classes\n",
        "    model.add(Dense(num_classes, activation='softmax'))\n",
        "\n",
        "    # Compile the model\n",
        "    model.compile(loss='categorical_crossentropy',\n",
        "                  optimizer=Adam(learning_rate=0.0005),\n",
        "                  metrics=['accuracy'])\n",
        "\n",
        "    return model\n",
        "\n",
        "# Create the model using the nn_model_2 function\n",
        "model_2 = nn_model_2(input_shape, num_classes)\n",
        "\n",
        "# Print the summary of the model\n",
        "model_2.summary()\n",
        "\n",
        "# Fit the model on the train data with a validation split of 0.2\n",
        "history = model_2.fit(X_train_normalized, y_train,\n",
        "                    validation_split=0.2,\n",
        "                    batch_size=128,\n",
        "                    verbose=1,\n",
        "                    epochs=30)"
      ]
    },
    {
      "cell_type": "markdown",
      "metadata": {
        "id": "ZJYsvjmw0XIX"
      },
      "source": [
        "### **Plot the Training and Validation Accuracies and write down your Observations.**"
      ]
    },
    {
      "cell_type": "code",
      "execution_count": 186,
      "metadata": {
        "id": "01ig6BrF1KVy",
        "colab": {
          "base_uri": "https://localhost:8080/",
          "height": 699
        },
        "outputId": "591b1317-3293-49be-f2ed-2521297c3acc"
      },
      "outputs": [
        {
          "output_type": "display_data",
          "data": {
            "text/plain": [
              "<Figure size 800x800 with 1 Axes>"
            ],
            "image/png": "[encoded data removed]"
          },
          "metadata": {}
        }
      ],
      "source": [
        "# Plotting the accuracies together.\n",
        "\n",
        "# Extracts the training history from a Keras model and stores it in a dictionary. This is useful since dictionaries in python are pairs\n",
        "# of key-values, just like the project we are working on.\n",
        "dict_hist = history.history\n",
        "\n",
        "# Creates a list of all Epochs\n",
        "list_ep = [i for i in range(1, 31)]\n",
        "\n",
        "# Creates a space to plot the graph in MatPlotLib\n",
        "plt.figure(figsize = (8, 8))\n",
        "\n",
        "# Plots the first line Accuracy\n",
        "plt.plot(list_ep, dict_hist['accuracy'], ls = '--', label = 'Accuracy')\n",
        "\n",
        "# Plots the second line Validation Accuracy\n",
        "plt.plot(list_ep, dict_hist['val_accuracy'], ls = '--', label = 'Validation Accuracy')\n",
        "\n",
        "# Sets the label for axis Y\n",
        "plt.ylabel('Accuracy')\n",
        "\n",
        "# Sets the label for axis X\n",
        "plt.xlabel('Epochs')\n",
        "\n",
        "# Sets the legend for the graph\n",
        "plt.legend()\n",
        "\n",
        "# Plotsthe actual graph on the screen.\n",
        "plt.show()"
      ]
    },
    {
      "cell_type": "markdown",
      "metadata": {
        "id": "VPW1LlD61RDn"
      },
      "source": [
        "**Observations:**\n",
        "\n",
        "The biggest take from this graph is this: while training accuracy increases (blue line), after Epoch 7, the validation accuracy is somewhat segmented, even though it is higher than training accuracy. The model might not be generalizing well and picking up some noise.\n",
        "There could be a couple of resons:\n",
        "\n",
        "1.   The model is too complex with too many layers and might be overfitting\n",
        "2.   The model might produce excessive amount of noise data\n",
        "\n",
        "\n",
        "In other words, adding more complexity to an ANN model might not lead to a more accurate result."
      ]
    },
    {
      "cell_type": "markdown",
      "metadata": {
        "id": "8kuXx9Bvu00f"
      },
      "source": [
        "## **Predictions on the test data**\n",
        "\n",
        "- Make predictions on the test set using the second model.\n",
        "- Print the obtained results using the classification report and the confusion matrix.\n",
        "- Final observations on the obtained results."
      ]
    },
    {
      "cell_type": "code",
      "execution_count": 190,
      "metadata": {
        "id": "xbWMEtTj5Ad0",
        "colab": {
          "base_uri": "https://localhost:8080/"
        },
        "outputId": "36939d96-5dd5-4fc2-92d5-112f2e0aecb0"
      },
      "outputs": [
        {
          "output_type": "stream",
          "name": "stdout",
          "text": [
            "563/563 [==============================] - 2s 3ms/step\n"
          ]
        }
      ],
      "source": [
        "#\n",
        "test_pred = model_2.predict(X_test)\n",
        "\n",
        "test_pred = np.argmax(test_pred, axis = -1)"
      ]
    },
    {
      "cell_type": "markdown",
      "metadata": {
        "id": "i3li8Ib08yts"
      },
      "source": [
        "**Note:** Earlier, we noticed that each entry of the target variable is a one-hot encoded vector but to print the classification report and confusion matrix, we must convert each entry of y_test to a single label."
      ]
    },
    {
      "cell_type": "code",
      "execution_count": 188,
      "metadata": {
        "id": "NByu7uAQ8x9P"
      },
      "outputs": [],
      "source": [
        "# Converts back to the original labels from the matrix coded by one-hot-encoding.\n",
        "y_test = np.argmax(y_test, axis = -1)"
      ]
    },
    {
      "cell_type": "markdown",
      "metadata": {
        "id": "1_SIoopr0XIg"
      },
      "source": [
        "### **Print the classification report and the confusion matrix for the test predictions. Write your observations on the final results.**"
      ]
    },
    {
      "cell_type": "code",
      "execution_count": 193,
      "metadata": {
        "id": "xRddeJ-3EHT1",
        "colab": {
          "base_uri": "https://localhost:8080/",
          "height": 760
        },
        "outputId": "8c79a4a7-7b28-44f8-c077-16483447184e"
      },
      "outputs": [
        {
          "output_type": "stream",
          "name": "stdout",
          "text": [
            "              precision    recall  f1-score   support\n",
            "\n",
            "           0       0.87      0.63      0.73      1814\n",
            "           1       0.57      0.73      0.64      1828\n",
            "           2       0.69      0.74      0.71      1803\n",
            "           3       0.62      0.66      0.64      1719\n",
            "           4       0.64      0.82      0.72      1812\n",
            "           5       0.71      0.63      0.67      1768\n",
            "           6       0.82      0.65      0.72      1832\n",
            "           7       0.58      0.84      0.69      1808\n",
            "           8       0.83      0.54      0.65      1812\n",
            "           9       0.74      0.62      0.67      1804\n",
            "\n",
            "    accuracy                           0.68     18000\n",
            "   macro avg       0.71      0.68      0.68     18000\n",
            "weighted avg       0.71      0.68      0.68     18000\n",
            "\n"
          ]
        },
        {
          "output_type": "display_data",
          "data": {
            "text/plain": [
              "<Figure size 800x500 with 2 Axes>"
            ],
            "image/png": "[encoded data removed]"
          },
          "metadata": {}
        }
      ],
      "source": [
        "# Printing the classification report using the sklearn method.\n",
        "\n",
        "print(classification_report(y_test, test_pred))\n",
        "\n",
        "# Plotting the heatmap using confusion matrix using another sklearn method.\n",
        "\n",
        "cm = confusion_matrix(y_test, test_pred)\n",
        "\n",
        "# Plots the confusion matrix\n",
        "plt.figure(figsize = (8, 5))\n",
        "\n",
        "# Uses seaborn library to show the heatmap\n",
        "sns.heatmap(cm, annot = True,  fmt = '.0f')\n",
        "\n",
        "# Assigns label to the y axis\n",
        "plt.ylabel('Actual')\n",
        "\n",
        "# Assigns label to the x axis\n",
        "plt.xlabel('Predicted')\n",
        "\n",
        "# Plots the result.\n",
        "plt.show()"
      ]
    },
    {
      "cell_type": "markdown",
      "metadata": {
        "id": "DjErl4GA2u9s"
      },
      "source": [
        "**Final Observations:__________**"
      ]
    },
    {
      "cell_type": "markdown",
      "metadata": {
        "id": "xkR4JioMsuIV"
      },
      "source": [
        "## **Using Convolutional Neural Networks**"
      ]
    },
    {
      "cell_type": "markdown",
      "metadata": {
        "id": "YN2YgkGL_6xQ"
      },
      "source": [
        "### **Load the dataset again and split the data into the train and the test dataset.**"
      ]
    },
    {
      "cell_type": "code",
      "execution_count": null,
      "metadata": {
        "id": "mqM204HbAjP2",
        "scrolled": true
      },
      "outputs": [],
      "source": []
    },
    {
      "cell_type": "markdown",
      "metadata": {
        "id": "6fPqF_xGAjQB"
      },
      "source": [
        "Check the number of images in the training and the testing dataset."
      ]
    },
    {
      "cell_type": "code",
      "execution_count": null,
      "metadata": {
        "id": "gTLJZWjPAjQB"
      },
      "outputs": [],
      "source": []
    },
    {
      "cell_type": "markdown",
      "metadata": {
        "id": "9qyMiP_rAjQB"
      },
      "source": [
        "**Observation:**\n"
      ]
    },
    {
      "cell_type": "markdown",
      "metadata": {
        "id": "OJndFfEVAjQG"
      },
      "source": [
        "## **Data preparation**\n",
        "\n",
        "- Print the shape and the array of pixels for the first image in the training dataset.\n",
        "- Reshape the train and the test dataset because we always have to give a 4D array as input to CNNs.\n",
        "- Normalize the train and the test dataset by dividing by 255.\n",
        "- Print the new shapes of the train and the test dataset.\n",
        "- One-hot encode the target variable."
      ]
    },
    {
      "cell_type": "code",
      "execution_count": null,
      "metadata": {
        "id": "W4uXqKz1AjQG"
      },
      "outputs": [],
      "source": []
    },
    {
      "cell_type": "markdown",
      "metadata": {
        "id": "at30iiX1__7F"
      },
      "source": [
        "Reshape the dataset to be able to pass them to CNNs. Remember that we always have to give a 4D array as input to CNNs"
      ]
    },
    {
      "cell_type": "code",
      "execution_count": null,
      "metadata": {
        "id": "D9YPwf9ysqWU"
      },
      "outputs": [],
      "source": []
    },
    {
      "cell_type": "markdown",
      "metadata": {
        "id": "ODYnoLfaAEGx"
      },
      "source": [
        "Normalize inputs from 0-255 to 0-1"
      ]
    },
    {
      "cell_type": "code",
      "execution_count": null,
      "metadata": {
        "id": "eOGLAn40AjQG"
      },
      "outputs": [],
      "source": []
    },
    {
      "cell_type": "markdown",
      "metadata": {
        "id": "cS9T4HqjAoyM"
      },
      "source": [
        "Print New shape of Training and Test"
      ]
    },
    {
      "cell_type": "code",
      "execution_count": null,
      "metadata": {
        "id": "5qf8S5NQAjQG"
      },
      "outputs": [],
      "source": []
    },
    {
      "cell_type": "markdown",
      "metadata": {
        "id": "10QaOV-xR7Jn"
      },
      "source": [
        "### **One-hot encode the labels in the target variable y_train and y_test.**"
      ]
    },
    {
      "cell_type": "code",
      "execution_count": null,
      "metadata": {
        "id": "3KHWFWKMAjQH"
      },
      "outputs": [],
      "source": []
    },
    {
      "cell_type": "markdown",
      "metadata": {
        "id": "H-8jYVQTAjQH"
      },
      "source": [
        "**Observation:**\n"
      ]
    },
    {
      "cell_type": "markdown",
      "metadata": {
        "id": "Vjx_LI4_AjQH"
      },
      "source": [
        "## **Model Building**\n",
        "\n",
        "Now that we have done data preprocessing, let's build a CNN model.\n",
        "Fix the seed for random number generators"
      ]
    },
    {
      "cell_type": "code",
      "execution_count": null,
      "metadata": {
        "id": "ZY5pyF4-KDNt"
      },
      "outputs": [],
      "source": []
    },
    {
      "cell_type": "markdown",
      "metadata": {
        "id": "1JUAczhzAjQH"
      },
      "source": [
        "### **Model Architecture**\n",
        "- **Write a function** that returns a sequential model with the following architecture:\n",
        " - First Convolutional layer with **16 filters and the kernel size of 3x3**. Use the **'same' padding** and provide the **input shape = (32, 32, 1)**\n",
        " - Add a **LeakyRelu layer** with the **slope equal to 0.1**\n",
        " - Second Convolutional layer with **32 filters and the kernel size of 3x3 with 'same' padding**\n",
        " - Another **LeakyRelu** with the **slope equal to 0.1**\n",
        " - A **max-pooling layer** with a **pool size of 2x2**\n",
        " - **Flatten** the output from the previous layer\n",
        " - Add a **dense layer with 32 nodes**\n",
        " - Add a **LeakyRelu layer with the slope equal to 0.1**\n",
        " - Add the final **output layer with nodes equal to the number of classes, i.e., 10** and **'softmax' as the activation function**\n",
        " - Compile the model with the **loss equal to categorical_crossentropy, optimizer equal to Adam(learning_rate = 0.001), and metric equal to 'accuracy'**. Do not fit the model here, just return the compiled model.\n",
        "- Call the function cnn_model_1 and store the output in a new variable.\n",
        "- Print the summary of the model.\n",
        "- Fit the model on the training data with a **validation split of 0.2, batch size = 32, verbose = 1, and epochs = 20**. Store the model building history to use later for visualization."
      ]
    },
    {
      "cell_type": "markdown",
      "metadata": {
        "id": "JWsAd45JKDNu"
      },
      "source": [
        "### **Build and train a CNN model as per the above mentioned architecture.**"
      ]
    },
    {
      "cell_type": "code",
      "execution_count": null,
      "metadata": {
        "id": "L1jOYANWAjQH"
      },
      "outputs": [],
      "source": []
    },
    {
      "cell_type": "markdown",
      "metadata": {
        "id": "JPzfIf9kKDNw"
      },
      "source": [
        "### **Plot the Training and Validation Accuracies and Write your observations.**"
      ]
    },
    {
      "cell_type": "code",
      "execution_count": null,
      "metadata": {
        "id": "07oUCr1kAjQH"
      },
      "outputs": [],
      "source": []
    },
    {
      "cell_type": "markdown",
      "metadata": {
        "id": "P6zTLyp9AjQH"
      },
      "source": [
        "**Observations:__________**"
      ]
    },
    {
      "cell_type": "markdown",
      "metadata": {
        "id": "Ukvtg2eMAjQH"
      },
      "source": [
        "Let's build another model and see if we can get a better model with generalized performance.\n",
        "\n",
        "First, we need to clear the previous model's history from the Keras backend. Also, let's fix the seed again after clearing the backend."
      ]
    },
    {
      "cell_type": "code",
      "execution_count": null,
      "metadata": {
        "id": "HbKi93HTolGW"
      },
      "outputs": [],
      "source": []
    },
    {
      "cell_type": "markdown",
      "metadata": {
        "id": "Ep19Jd8HAjQH"
      },
      "source": [
        "### **Second Model Architecture**\n",
        "\n",
        "- Write a function that returns a sequential model with the following architecture:\n",
        " - First Convolutional layer with **16 filters and the kernel size of 3x3**. Use the **'same' padding** and provide the **input shape = (32, 32, 1)**\n",
        " - Add a **LeakyRelu layer** with the **slope equal to 0.1**\n",
        " - Second Convolutional layer with **32 filters and the kernel size of 3x3 with 'same' padding**\n",
        " - Add **LeakyRelu** with the **slope equal to 0.1**\n",
        " - Add a **max-pooling layer** with a **pool size of 2x2**\n",
        " - Add a **BatchNormalization layer**\n",
        " - Third Convolutional layer with **32 filters and the kernel size of 3x3 with 'same' padding**\n",
        " - Add a **LeakyRelu layer with the slope equal to 0.1**\n",
        " - Fourth Convolutional layer **64 filters and the kernel size of 3x3 with 'same' padding**\n",
        " - Add a **LeakyRelu layer with the slope equal to 0.1**\n",
        " - Add a **max-pooling layer** with a **pool size of 2x2**\n",
        " - Add a **BatchNormalization layer**\n",
        " - **Flatten** the output from the previous layer\n",
        " - Add a **dense layer with 32 nodes**\n",
        " - Add a **LeakyRelu layer with the slope equal to 0.1**\n",
        " - Add a **dropout layer with the rate equal to 0.5**\n",
        " - Add the final **output layer with nodes equal to the number of classes, i.e., 10** and **'softmax' as the activation function**\n",
        " - Compile the model with the **categorical_crossentropy loss, adam optimizers (learning_rate = 0.001), and metric equal to 'accuracy'**. Do not fit the model here, just return the compiled model.\n",
        "- Call the function cnn_model_2 and store the model in a new variable.\n",
        "- Print the summary of the model.\n",
        "- Fit the model on the train data with a **validation split of 0.2, batch size = 128, verbose = 1, and epochs = 30**. Store the model building history to use later for visualization."
      ]
    },
    {
      "cell_type": "markdown",
      "metadata": {
        "id": "y5IBLS1eKDNy"
      },
      "source": [
        "### **Build and train the second CNN model as per the above mentioned architecture.**"
      ]
    },
    {
      "cell_type": "code",
      "execution_count": null,
      "metadata": {
        "id": "wk9sl2UEAjQH"
      },
      "outputs": [],
      "source": []
    },
    {
      "cell_type": "markdown",
      "metadata": {
        "id": "PyhUtMy3KDN1"
      },
      "source": [
        "### **Plot the Training and Validation accuracies and write your observations.**"
      ]
    },
    {
      "cell_type": "code",
      "execution_count": null,
      "metadata": {
        "id": "YVQu7uWiAjQH"
      },
      "outputs": [],
      "source": []
    },
    {
      "cell_type": "markdown",
      "metadata": {
        "id": "Qrrt0Ac3AjQH"
      },
      "source": [
        "**Observations:________**"
      ]
    },
    {
      "cell_type": "markdown",
      "metadata": {
        "id": "kja4SnOdAjQI"
      },
      "source": [
        "## **Predictions on the test data**\n",
        "\n",
        "- Make predictions on the test set using the second model.\n",
        "- Print the obtained results using the classification report and the confusion matrix.\n",
        "- Final observations on the obtained results."
      ]
    },
    {
      "cell_type": "markdown",
      "metadata": {
        "id": "eHCRwRbgKDN2"
      },
      "source": [
        "### **Make predictions on the test data using the second model.**"
      ]
    },
    {
      "cell_type": "code",
      "execution_count": null,
      "metadata": {
        "id": "f1d-VvaLAjQI"
      },
      "outputs": [],
      "source": []
    },
    {
      "cell_type": "markdown",
      "metadata": {
        "id": "DrV1tOG0AjQI"
      },
      "source": [
        "**Note:** Earlier, we noticed that each entry of the target variable is a one-hot encoded vector, but to print the classification report and confusion matrix, we must convert each entry of y_test to a single label."
      ]
    },
    {
      "cell_type": "code",
      "execution_count": null,
      "metadata": {
        "id": "dUSHU9W0AjQI"
      },
      "outputs": [],
      "source": []
    },
    {
      "cell_type": "markdown",
      "metadata": {
        "id": "aVCa-ysWKDN3"
      },
      "source": [
        "### **Write your final observations on the performance of the model on the test data.**"
      ]
    },
    {
      "cell_type": "code",
      "execution_count": null,
      "metadata": {
        "id": "sOMq2rCJAjQJ"
      },
      "outputs": [],
      "source": []
    },
    {
      "cell_type": "markdown",
      "metadata": {
        "id": "TNN9v713AjQJ"
      },
      "source": [
        "**Final Observations:_________**"
      ]
    }
  ],
  "metadata": {
    "accelerator": "TPU",
    "colab": {
      "provenance": [],
      "include_colab_link": true
    },
    "kernelspec": {
      "display_name": "Python 3 (ipykernel)",
      "language": "python",
      "name": "python3"
    },
    "language_info": {
      "codemirror_mode": {
        "name": "ipython",
        "version": 3
      },
      "file_extension": ".py",
      "mimetype": "text/x-python",
      "name": "python",
      "nbconvert_exporter": "python",
      "pygments_lexer": "ipython3",
      "version": "3.9.7"
    }
  },
  "nbformat": 4,
  "nbformat_minor": 0
}